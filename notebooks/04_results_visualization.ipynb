# %% [markdown]
# # 04 - Results & Visualization
#
# Load model reports and create comparison visuals. This notebook assumes `src.classical_models` created `results` in-memory.
# We will re-run predictions on test set and plot confusion matrices and cumulative returns placeholder.

# %%
import pandas as pd
import joblib
import numpy as np
import matplotlib.pyplot as plt
import seaborn as sns
from pathlib import Path
from sklearn.metrics import confusion_matrix, ConfusionMatrixDisplay, classification_report
from src.classical_models import load_processed, DEFAULT_FEATURES
from src.config import CLASSICAL_DIR

# %% [markdown]
# ## Load processed dataset and models

# %%
df = load_processed()
X = df[DEFAULT_FEATURES].values
y = df['Target'].values
split = int(len(X) * (1 - 0.2))
X_train, X_test = X[:split], X[split:]
y_train, y_test = y[:split], y[split:]

models = {
    "svm": joblib.load(Path(CLASSICAL_DIR)/"svm_model.pkl"),
    "xgb": joblib.load(Path(CLASSICAL_DIR)/"xgboost_model.pkl"),
    "mlp": joblib.load(Path(CLASSICAL_DIR)/"mlp_model.pkl"),
}

# %% [markdown]
# ## Classification reports

# %%
for name, m in models.items():
    preds = m.predict(X_test)
    print(f"== {name} ==")
    print(classification_report(y_test, preds))

# %% [markdown]
# ## Confusion matrices

# %%
fig, axes = plt.subplots(1, 3, figsize=(15,4))
for ax, (name, m) in zip(axes, models.items()):
    preds = m.predict(X_test)
    cm = confusion_matrix(y_test, preds, labels=[-1,0,1])
    disp = ConfusionMatrixDisplay(cm, display_labels=["Sell(-1)","Hold(0)","Buy(1)"])
    disp.plot(ax=ax, cmap='Blues', include_values=True)
    ax.set_title(name)
plt.tight_layout()
plt.show()

# %% [markdown]
# ## Example: Simple cumulative returns simulation (paper trading simulation)
#
# NOTE: This is a very simplified simulation: when model predicts Buy, we "enter long" for the next step, Sell -> short, Hold -> do nothing.

# %%
def simulate_returns(preds, prices):
    # Assume 1 unit position, next-step return = (next_price - price)/price
    returns = []
    for i in range(len(preds)-1):
        if preds[i] == 1:  # long
            r = (prices[i+1] - prices[i]) / prices[i]
        elif preds[i] == -1:  # short
            r = (prices[i] - prices[i+1]) / prices[i]
        else:
            r = 0
        returns.append(r)
    return np.array(returns)

prices = df['Close'].values[split:]
plt.figure(figsize=(10,6))
for name, m in models.items():
    preds = m.predict(X_test)
    rets = simulate_returns(preds, prices)
    cum = np.cumsum(rets)
    plt.plot(cum, label=name)
plt.title("Cumulative simple returns (toy simulation)")
plt.legend()
plt.show()
