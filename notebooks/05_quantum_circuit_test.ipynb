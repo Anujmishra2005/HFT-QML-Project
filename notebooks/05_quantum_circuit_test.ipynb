# %% [markdown]
# # 05 - Quantum Circuit Tests
#
# Simple tests for angle encoding and running a toy VQC using PennyLane default.qubit simulator.
# This notebook is illustrative — it requires `pennylane`.

# %%
import numpy as np
import pennylane as qml
from src.quantum_encoding import angle_encode
from src.quantum_models import dev, vqc_node, variational_circuit
from pennylane import numpy as pnp

# %% [markdown]
# ## Angle encoding demo

# %%
sample_features = np.array([0.1, 0.5, -0.2, 0.7, 0.0])
encoded = angle_encode(sample_features, n_qubits=4)
print("Encoded angles:", encoded)

# %% [markdown]
# ## Simple VQC forward pass (random params)

# %%
n_qubits = 4
# params shape for StronglyEntanglingLayers: (layers, wires, 3)
params = pnp.random.randn(1, n_qubits, 3)
x = pnp.array(encoded)
print("Params shape:", params.shape)
print("Circuit output:", vqc_node(params, x))

# %% [markdown]
# ## Small training loop demo (toy)

# %%
from src.quantum_models import vqc_train
# Create toy X, y
N = 8
X = np.array([angle_encode(np.random.randn(6), n_qubits=4) for _ in range(N)])
y = np.random.choice([-1, 1], size=N)  # toy binary labels
print("Running small VQC train (this may take a bit)...")
params = vqc_train(X, y, steps=5)
print("Saved params shape:", params.shape)
