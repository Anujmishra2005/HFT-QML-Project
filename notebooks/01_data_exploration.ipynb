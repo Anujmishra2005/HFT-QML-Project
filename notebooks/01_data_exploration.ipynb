# %% [markdown]
# # 01 - Data Exploration
#
# This notebook loads raw CSV(s) from `data/raw/`, shows basic stats, and visualizes price/time distributions.
# Make sure `data/raw/` contains at least one CSV with columns: Datetime, Open, High, Low, Close, Volume

# %%
import pandas as pd
from pathlib import Path
import matplotlib.pyplot as plt
import seaborn as sns

DATA_RAW = Path("data/raw")

# %% [markdown]
# ## Helper to load a CSV (first found if multiple)

# %%
def load_first_raw():
    files = list(DATA_RAW.glob("*.csv"))
    if not files:
        raise FileNotFoundError("No CSVs found in data/raw/. Add a sample CSV to proceed.")
    print("Using:", files[0])
    df = pd.read_csv(files[0], parse_dates=True, index_col=0)
    df.sort_index(inplace=True)
    return df, files[0].stem

df, stem = load_first_raw()
df.head()

# %% [markdown]
# ## Basic information and summary statistics

# %%
print("Shape:", df.shape)
print("Columns:", df.columns.tolist())
display(df.describe().T)

# %% [markdown]
# ## Missing values check

# %%
display(df.isna().sum())

# %% [markdown]
# ## Time distribution (timeline and volume)

# %%
plt.figure(figsize=(12,4))
plt.plot(df.index, df['Close'])
plt.title(f"{stem} - Close Price")
plt.xlabel("Time")
plt.ylabel("Price")
plt.tight_layout()
plt.show()

plt.figure(figsize=(12,3))
plt.bar(df.index, df['Volume'])
plt.title(f"{stem} - Volume")
plt.tight_layout()
plt.show()

# %% [markdown]
# ## Returns distribution and volatility (histogram)

# %%
df['log_return'] = (df['Close'].pct_change()).apply(lambda x: None if pd.isna(x) else x)
sns.histplot(df['log_return'].dropna(), bins=80, kde=True)
plt.title("Log return distribution")
plt.show()

# %% [markdown]
# ## Save a small sample (optional)

# %%
sample_path = Path("data/processed") / f"{stem}_exploration_sample.csv"
Path("data/processed").mkdir(parents=True, exist_ok=True)
df.head(100).to_csv(sample_path)
print("Saved sample to:", sample_path)
