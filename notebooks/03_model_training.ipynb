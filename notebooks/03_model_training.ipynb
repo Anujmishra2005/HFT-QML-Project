# %% [markdown]
# # 03 - Model Training
#
# Train classical baseline models (SVM, XGBoost, MLP) using processed dataset saved earlier.

# %%
import pandas as pd
from pathlib import Path
from src.classical_models import train_and_save, load_processed, DEFAULT_FEATURES
from src.config import DATA_PROCESSED

# %% [markdown]
# ## Load processed dataset (first processed file)

# %%
files = list(Path("data/processed").glob("*_processed.csv"))
if not files:
    raise FileNotFoundError("No processed files found. Run the feature engineering notebook / preprocessing script.")
print("Using:", files[0])
df = pd.read_csv(files[0], index_col=0, parse_dates=True)
df.head()

# %% [markdown]
# ## Quick view on features & target

# %%
display(df[DEFAULT_FEATURES].head())
print("Target distribution:\n", df['Target'].value_counts())

# %% [markdown]
# ## Train models (this will save models in `models/classical/`)

# %%
results = train_and_save(models_out=True)
print("Training finished. Results summary keys:", results.keys())

# %% [markdown]
# ## Inspect saved models files

# %%
import os
print("Saved classical models in:", Path("models/classical").resolve())
print(os.listdir("models/classical"))
