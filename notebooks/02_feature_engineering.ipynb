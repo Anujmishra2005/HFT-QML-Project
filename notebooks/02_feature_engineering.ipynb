# %% [markdown]
# # 02 - Feature Engineering
#
# Compute technical indicators (RSI, MACD, Bollinger Bands, EMA) and save processed dataset(s).

# %%
import pandas as pd
from pathlib import Path
import ta
from src.utils import save_processed
from src.config import DATA_RAW, DATA_PROCESSED
from src.data_preprocessing import compute_technical_indicators, create_labels

# %% [markdown]
# ## Choose raw file to process (first found)

# %%
files = list(Path("data/raw").glob("*.csv"))
if not files:
    raise FileNotFoundError("No raw CSVs in data/raw/")
raw_path = files[0]
print("Processing:", raw_path)

df = pd.read_csv(raw_path, index_col=0, parse_dates=True)
df.sort_index(inplace=True)
df.head()

# %% [markdown]
# ## Compute indicators using `compute_technical_indicators` from `src.data_preprocessing`

# %%
df_ind = compute_technical_indicators(df)
display(df_ind.head())
display(df_ind.tail())

# %% [markdown]
# ## Create target labels (Buy/Sell/Hold) with create_labels

# %%
df_lab = create_labels(df_ind)
display(df_lab[['Close','Future_Close','Target']].head(10))
display(df_lab[['Close','Future_Close','Target']].tail(10))

# %% [markdown]
# ## Check class balance

# %%
print("Class counts:\n", df_lab['Target'].value_counts())

# %% [markdown]
# ## Save processed CSV

# %%
out_name = raw_path.stem + "_processed.csv"
out_path = save_processed(df_lab, name=out_name)
print("Saved processed dataset to:", out_path)
